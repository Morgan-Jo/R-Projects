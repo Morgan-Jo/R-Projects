{
 "cells": [
  {
   "cell_type": "code",
   "execution_count": 1,
   "id": "90c0e76f",
   "metadata": {},
   "outputs": [
    {
     "name": "stderr",
     "output_type": "stream",
     "text": [
      "Registered S3 methods overwritten by 'ggplot2':\n",
      "  method         from \n",
      "  [.quosures     rlang\n",
      "  c.quosures     rlang\n",
      "  print.quosures rlang\n",
      "Registered S3 method overwritten by 'rvest':\n",
      "  method            from\n",
      "  read_xml.response xml2\n",
      "-- Attaching packages --------------------------------------- tidyverse 1.2.1 --\n",
      "v ggplot2 3.1.1       v purrr   0.3.2  \n",
      "v tibble  2.1.1       v dplyr   0.8.0.1\n",
      "v tidyr   0.8.3       v stringr 1.4.0  \n",
      "v readr   1.3.1       v forcats 0.4.0  \n",
      "-- Conflicts ------------------------------------------ tidyverse_conflicts() --\n",
      "x dplyr::filter() masks stats::filter()\n",
      "x dplyr::lag()    masks stats::lag()\n"
     ]
    }
   ],
   "source": [
    "library(tidyverse)"
   ]
  },
  {
   "cell_type": "code",
   "execution_count": 2,
   "id": "6d571a23",
   "metadata": {},
   "outputs": [],
   "source": [
    "class_teachers = read.csv(\"ClassesTeachers2019.csv\")"
   ]
  },
  {
   "cell_type": "code",
   "execution_count": 3,
   "id": "e0c13ab0",
   "metadata": {},
   "outputs": [
    {
     "data": {
      "text/html": [
       "<table>\n",
       "<thead><tr><th scope=col>first_name</th><th scope=col>last_name</th><th scope=col>department</th><th scope=col>year</th><th scope=col>class_ident</th></tr></thead>\n",
       "<tbody>\n",
       "\t<tr><td>Antonella</td><td>Ratazzi  </td><td>PE       </td><td>1        </td><td>PE_1a    </td></tr>\n",
       "\t<tr><td>Gonzales </td><td>Redemile </td><td>PE       </td><td>1        </td><td>PE_1b    </td></tr>\n",
       "\t<tr><td>Gonzales </td><td>Redemile </td><td>PE       </td><td>2        </td><td>PE_2a    </td></tr>\n",
       "\t<tr><td>Antonella</td><td>Ratazzi  </td><td>PE       </td><td>2        </td><td>PE_2b    </td></tr>\n",
       "\t<tr><td>Antonella</td><td>Ratazzi  </td><td>PE       </td><td>3        </td><td>PE_3a    </td></tr>\n",
       "\t<tr><td>Delores  </td><td>Aucott   </td><td>PE       </td><td>3        </td><td>PE_3b    </td></tr>\n",
       "</tbody>\n",
       "</table>\n"
      ],
      "text/latex": [
       "\\begin{tabular}{r|lllll}\n",
       " first\\_name & last\\_name & department & year & class\\_ident\\\\\n",
       "\\hline\n",
       "\t Antonella & Ratazzi   & PE        & 1         & PE\\_1a  \\\\\n",
       "\t Gonzales  & Redemile  & PE        & 1         & PE\\_1b  \\\\\n",
       "\t Gonzales  & Redemile  & PE        & 2         & PE\\_2a  \\\\\n",
       "\t Antonella & Ratazzi   & PE        & 2         & PE\\_2b  \\\\\n",
       "\t Antonella & Ratazzi   & PE        & 3         & PE\\_3a  \\\\\n",
       "\t Delores   & Aucott    & PE        & 3         & PE\\_3b  \\\\\n",
       "\\end{tabular}\n"
      ],
      "text/markdown": [
       "\n",
       "| first_name | last_name | department | year | class_ident |\n",
       "|---|---|---|---|---|\n",
       "| Antonella | Ratazzi   | PE        | 1         | PE_1a     |\n",
       "| Gonzales  | Redemile  | PE        | 1         | PE_1b     |\n",
       "| Gonzales  | Redemile  | PE        | 2         | PE_2a     |\n",
       "| Antonella | Ratazzi   | PE        | 2         | PE_2b     |\n",
       "| Antonella | Ratazzi   | PE        | 3         | PE_3a     |\n",
       "| Delores   | Aucott    | PE        | 3         | PE_3b     |\n",
       "\n"
      ],
      "text/plain": [
       "  first_name last_name department year class_ident\n",
       "1 Antonella  Ratazzi   PE         1    PE_1a      \n",
       "2 Gonzales   Redemile  PE         1    PE_1b      \n",
       "3 Gonzales   Redemile  PE         2    PE_2a      \n",
       "4 Antonella  Ratazzi   PE         2    PE_2b      \n",
       "5 Antonella  Ratazzi   PE         3    PE_3a      \n",
       "6 Delores    Aucott    PE         3    PE_3b      "
      ]
     },
     "metadata": {},
     "output_type": "display_data"
    }
   ],
   "source": [
    "head(class_teachers)"
   ]
  },
  {
   "cell_type": "code",
   "execution_count": 4,
   "id": "c228c483",
   "metadata": {},
   "outputs": [
    {
     "data": {
      "text/html": [
       "<ol class=list-inline>\n",
       "\t<li>'first_name'</li>\n",
       "\t<li>'last_name'</li>\n",
       "\t<li>'department'</li>\n",
       "\t<li>'year'</li>\n",
       "\t<li>'class_ident'</li>\n",
       "</ol>\n"
      ],
      "text/latex": [
       "\\begin{enumerate*}\n",
       "\\item 'first\\_name'\n",
       "\\item 'last\\_name'\n",
       "\\item 'department'\n",
       "\\item 'year'\n",
       "\\item 'class\\_ident'\n",
       "\\end{enumerate*}\n"
      ],
      "text/markdown": [
       "1. 'first_name'\n",
       "2. 'last_name'\n",
       "3. 'department'\n",
       "4. 'year'\n",
       "5. 'class_ident'\n",
       "\n",
       "\n"
      ],
      "text/plain": [
       "[1] \"first_name\"  \"last_name\"   \"department\"  \"year\"        \"class_ident\""
      ]
     },
     "metadata": {},
     "output_type": "display_data"
    }
   ],
   "source": [
    "names(class_teachers)"
   ]
  },
  {
   "cell_type": "code",
   "execution_count": 5,
   "id": "9ee43656",
   "metadata": {},
   "outputs": [
    {
     "name": "stdout",
     "output_type": "stream",
     "text": [
      "Observations: 164\n",
      "Variables: 5\n",
      "$ first_name  <fct> Antonella, Gonzales, Gonzales, Antonella, Antonella, De...\n",
      "$ last_name   <fct> Ratazzi, Redemile, Redemile, Ratazzi, Ratazzi, Aucott, ...\n",
      "$ department  <fct> PE, PE, PE, PE, PE, PE, PE, PE, PE, PE, PE, PE, History...\n",
      "$ year        <int> 1, 1, 2, 2, 3, 3, 4, 4, 5, 5, 6, 6, 1, 1, 1, 2, 2, 2, 3...\n",
      "$ class_ident <fct> PE_1a, PE_1b, PE_2a, PE_2b, PE_3a, PE_3b, PE_4a, PE_4b,...\n"
     ]
    }
   ],
   "source": [
    "glimpse(class_teachers)"
   ]
  },
  {
   "cell_type": "code",
   "execution_count": 6,
   "id": "b3850994",
   "metadata": {},
   "outputs": [
    {
     "data": {
      "text/html": [
       "<ol class=list-inline>\n",
       "\t<li>164</li>\n",
       "\t<li>5</li>\n",
       "</ol>\n"
      ],
      "text/latex": [
       "\\begin{enumerate*}\n",
       "\\item 164\n",
       "\\item 5\n",
       "\\end{enumerate*}\n"
      ],
      "text/markdown": [
       "1. 164\n",
       "2. 5\n",
       "\n",
       "\n"
      ],
      "text/plain": [
       "[1] 164   5"
      ]
     },
     "metadata": {},
     "output_type": "display_data"
    }
   ],
   "source": [
    "dim(class_teachers)"
   ]
  },
  {
   "cell_type": "code",
   "execution_count": 7,
   "id": "491a76ea",
   "metadata": {},
   "outputs": [],
   "source": [
    "view(class_teachers)"
   ]
  },
  {
   "cell_type": "code",
   "execution_count": 10,
   "id": "bc4a86f4",
   "metadata": {},
   "outputs": [],
   "source": [
    "number_classes_each_dep = class_teachers %>%\n",
    "    group_by(department) %>%\n",
    "    summarise(number_of_classes = n()) %>%\n",
    "    arrange(number_of_classes)"
   ]
  },
  {
   "cell_type": "code",
   "execution_count": 11,
   "id": "cfe77dda",
   "metadata": {},
   "outputs": [
    {
     "data": {
      "text/html": [
       "<table>\n",
       "<thead><tr><th scope=col>department</th><th scope=col>number_of_classes</th></tr></thead>\n",
       "<tbody>\n",
       "\t<tr><td>Geography</td><td> 7       </td></tr>\n",
       "\t<tr><td>Business </td><td> 9       </td></tr>\n",
       "\t<tr><td>Chemistry</td><td>10       </td></tr>\n",
       "\t<tr><td>Biology  </td><td>12       </td></tr>\n",
       "\t<tr><td>Languages</td><td>12       </td></tr>\n",
       "\t<tr><td>PE       </td><td>12       </td></tr>\n",
       "\t<tr><td>Music    </td><td>13       </td></tr>\n",
       "\t<tr><td>Physics  </td><td>13       </td></tr>\n",
       "\t<tr><td>English  </td><td>19       </td></tr>\n",
       "\t<tr><td>History  </td><td>19       </td></tr>\n",
       "\t<tr><td>Maths    </td><td>19       </td></tr>\n",
       "\t<tr><td>Support  </td><td>19       </td></tr>\n",
       "</tbody>\n",
       "</table>\n"
      ],
      "text/latex": [
       "\\begin{tabular}{r|ll}\n",
       " department & number\\_of\\_classes\\\\\n",
       "\\hline\n",
       "\t Geography &  7       \\\\\n",
       "\t Business  &  9       \\\\\n",
       "\t Chemistry & 10       \\\\\n",
       "\t Biology   & 12       \\\\\n",
       "\t Languages & 12       \\\\\n",
       "\t PE        & 12       \\\\\n",
       "\t Music     & 13       \\\\\n",
       "\t Physics   & 13       \\\\\n",
       "\t English   & 19       \\\\\n",
       "\t History   & 19       \\\\\n",
       "\t Maths     & 19       \\\\\n",
       "\t Support   & 19       \\\\\n",
       "\\end{tabular}\n"
      ],
      "text/markdown": [
       "\n",
       "| department | number_of_classes |\n",
       "|---|---|\n",
       "| Geography |  7        |\n",
       "| Business  |  9        |\n",
       "| Chemistry | 10        |\n",
       "| Biology   | 12        |\n",
       "| Languages | 12        |\n",
       "| PE        | 12        |\n",
       "| Music     | 13        |\n",
       "| Physics   | 13        |\n",
       "| English   | 19        |\n",
       "| History   | 19        |\n",
       "| Maths     | 19        |\n",
       "| Support   | 19        |\n",
       "\n"
      ],
      "text/plain": [
       "   department number_of_classes\n",
       "1  Geography   7               \n",
       "2  Business    9               \n",
       "3  Chemistry  10               \n",
       "4  Biology    12               \n",
       "5  Languages  12               \n",
       "6  PE         12               \n",
       "7  Music      13               \n",
       "8  Physics    13               \n",
       "9  English    19               \n",
       "10 History    19               \n",
       "11 Maths      19               \n",
       "12 Support    19               "
      ]
     },
     "metadata": {},
     "output_type": "display_data"
    }
   ],
   "source": [
    "number_classes_each_dep"
   ]
  },
  {
   "cell_type": "code",
   "execution_count": 14,
   "id": "639f6cd0",
   "metadata": {},
   "outputs": [
    {
     "data": {
      "image/png": "[encoded data removed]",
      "text/plain": [
       "plot without title"
      ]
     },
     "metadata": {},
     "output_type": "display_data"
    }
   ],
   "source": [
    "number_classes_each_dep %>% \n",
    "    ggplot() +\n",
    "    aes(x = reorder(department, desc(number_of_classes)) , y = number_of_classes) +\n",
    "    geom_col(fill=\"lightpink\") +\n",
    "    xlab(\"School Department\") +\n",
    "    ylab(\"Number of classes taught\")"
   ]
  },
  {
   "cell_type": "code",
   "execution_count": 18,
   "id": "4143c452",
   "metadata": {},
   "outputs": [],
   "source": [
    "number_classes_each_teachers = class_teachers %>%\n",
    "    group_by(last_name, department) %>%\n",
    "    summarise(number_of_classes = n()) %>%\n",
    "    arrange(number_of_classes)"
   ]
  },
  {
   "cell_type": "code",
   "execution_count": 19,
   "id": "fd0059ad",
   "metadata": {},
   "outputs": [
    {
     "data": {
      "text/html": [
       "<table>\n",
       "<thead><tr><th scope=col>last_name</th><th scope=col>department</th><th scope=col>number_of_classes</th></tr></thead>\n",
       "<tbody>\n",
       "\t<tr><td>Adamik    </td><td>Biology   </td><td>1         </td></tr>\n",
       "\t<tr><td>Alejandri </td><td>Chemistry </td><td>1         </td></tr>\n",
       "\t<tr><td>Ballantine</td><td>Music     </td><td>1         </td></tr>\n",
       "\t<tr><td>Bartalot  </td><td>Maths     </td><td>1         </td></tr>\n",
       "\t<tr><td>Beddoes   </td><td>Business  </td><td>1         </td></tr>\n",
       "\t<tr><td>Bhar      </td><td>Chemistry </td><td>1         </td></tr>\n",
       "\t<tr><td>Braizier  </td><td>Physics   </td><td>1         </td></tr>\n",
       "\t<tr><td>Capenor   </td><td>Maths     </td><td>1         </td></tr>\n",
       "\t<tr><td>Cleyburn  </td><td>Business  </td><td>1         </td></tr>\n",
       "\t<tr><td>Dabels    </td><td>Geography </td><td>1         </td></tr>\n",
       "\t<tr><td>Danat     </td><td>Maths     </td><td>1         </td></tr>\n",
       "\t<tr><td>De Leek   </td><td>Biology   </td><td>1         </td></tr>\n",
       "\t<tr><td>Dossettor </td><td>Chemistry </td><td>1         </td></tr>\n",
       "\t<tr><td>Falvey    </td><td>History   </td><td>1         </td></tr>\n",
       "\t<tr><td>Gordon    </td><td>Physics   </td><td>1         </td></tr>\n",
       "\t<tr><td>Hardes    </td><td>Physics   </td><td>1         </td></tr>\n",
       "\t<tr><td>Ianni     </td><td>Biology   </td><td>1         </td></tr>\n",
       "\t<tr><td>Jacobssen </td><td>History   </td><td>1         </td></tr>\n",
       "\t<tr><td>Klimecki  </td><td>Geography </td><td>1         </td></tr>\n",
       "\t<tr><td>Learoyd   </td><td>English   </td><td>1         </td></tr>\n",
       "\t<tr><td>Leisman   </td><td>Maths     </td><td>1         </td></tr>\n",
       "\t<tr><td>McGahy    </td><td>Biology   </td><td>1         </td></tr>\n",
       "\t<tr><td>McKeeman  </td><td>Music     </td><td>1         </td></tr>\n",
       "\t<tr><td>Mollison  </td><td>Biology   </td><td>1         </td></tr>\n",
       "\t<tr><td>Mosby     </td><td>Geography </td><td>1         </td></tr>\n",
       "\t<tr><td>Mulcock   </td><td>Music     </td><td>1         </td></tr>\n",
       "\t<tr><td>Neljes    </td><td>Geography </td><td>1         </td></tr>\n",
       "\t<tr><td>O'Fogarty </td><td>Support   </td><td>1         </td></tr>\n",
       "\t<tr><td>Pavia     </td><td>History   </td><td>1         </td></tr>\n",
       "\t<tr><td>Poskitt   </td><td>Chemistry </td><td>1         </td></tr>\n",
       "\t<tr><td>...</td><td>...</td><td>...</td></tr>\n",
       "\t<tr><td>Loughan      </td><td>Business     </td><td>2            </td></tr>\n",
       "\t<tr><td>Manifould    </td><td>English      </td><td>2            </td></tr>\n",
       "\t<tr><td>Rhodus       </td><td>Music        </td><td>2            </td></tr>\n",
       "\t<tr><td>Siverns      </td><td>History      </td><td>2            </td></tr>\n",
       "\t<tr><td>Sodor        </td><td>English      </td><td>2            </td></tr>\n",
       "\t<tr><td>Tomczykiewicz</td><td>Business     </td><td>2            </td></tr>\n",
       "\t<tr><td>Torald       </td><td>Biology      </td><td>2            </td></tr>\n",
       "\t<tr><td>Allonby      </td><td>Support      </td><td>3            </td></tr>\n",
       "\t<tr><td>Barnicott    </td><td>History      </td><td>3            </td></tr>\n",
       "\t<tr><td>Caudray      </td><td>Biology      </td><td>3            </td></tr>\n",
       "\t<tr><td>Dewett       </td><td>Support      </td><td>3            </td></tr>\n",
       "\t<tr><td>Redemile     </td><td>PE           </td><td>3            </td></tr>\n",
       "\t<tr><td>Reyburn      </td><td>History      </td><td>3            </td></tr>\n",
       "\t<tr><td>Tesseyman    </td><td>Support      </td><td>3            </td></tr>\n",
       "\t<tr><td>Vellden      </td><td>History      </td><td>3            </td></tr>\n",
       "\t<tr><td>Aucott       </td><td>PE           </td><td>4            </td></tr>\n",
       "\t<tr><td>Clayfield    </td><td>Physics      </td><td>4            </td></tr>\n",
       "\t<tr><td>Delmonti     </td><td>Support      </td><td>4            </td></tr>\n",
       "\t<tr><td>Heaselgrave  </td><td>Physics      </td><td>4            </td></tr>\n",
       "\t<tr><td>Nesby        </td><td>Music        </td><td>4            </td></tr>\n",
       "\t<tr><td>Ralls        </td><td>English      </td><td>4            </td></tr>\n",
       "\t<tr><td>Shields      </td><td>English      </td><td>4            </td></tr>\n",
       "\t<tr><td>Spiniello    </td><td>Maths        </td><td>4            </td></tr>\n",
       "\t<tr><td>Waggatt      </td><td>Maths        </td><td>4            </td></tr>\n",
       "\t<tr><td>Hartigan     </td><td>Languages    </td><td>5            </td></tr>\n",
       "\t<tr><td>Jamson       </td><td>Support      </td><td>5            </td></tr>\n",
       "\t<tr><td>Machel       </td><td>Maths        </td><td>5            </td></tr>\n",
       "\t<tr><td>Ratazzi      </td><td>PE           </td><td>5            </td></tr>\n",
       "\t<tr><td>Couroy       </td><td>Languages    </td><td>6            </td></tr>\n",
       "\t<tr><td>Warrilow     </td><td>English      </td><td>6            </td></tr>\n",
       "</tbody>\n",
       "</table>\n"
      ],
      "text/latex": [
       "\\begin{tabular}{r|lll}\n",
       " last\\_name & department & number\\_of\\_classes\\\\\n",
       "\\hline\n",
       "\t Adamik     & Biology    & 1         \\\\\n",
       "\t Alejandri  & Chemistry  & 1         \\\\\n",
       "\t Ballantine & Music      & 1         \\\\\n",
       "\t Bartalot   & Maths      & 1         \\\\\n",
       "\t Beddoes    & Business   & 1         \\\\\n",
       "\t Bhar       & Chemistry  & 1         \\\\\n",
       "\t Braizier   & Physics    & 1         \\\\\n",
       "\t Capenor    & Maths      & 1         \\\\\n",
       "\t Cleyburn   & Business   & 1         \\\\\n",
       "\t Dabels     & Geography  & 1         \\\\\n",
       "\t Danat      & Maths      & 1         \\\\\n",
       "\t De Leek    & Biology    & 1         \\\\\n",
       "\t Dossettor  & Chemistry  & 1         \\\\\n",
       "\t Falvey     & History    & 1         \\\\\n",
       "\t Gordon     & Physics    & 1         \\\\\n",
       "\t Hardes     & Physics    & 1         \\\\\n",
       "\t Ianni      & Biology    & 1         \\\\\n",
       "\t Jacobssen  & History    & 1         \\\\\n",
       "\t Klimecki   & Geography  & 1         \\\\\n",
       "\t Learoyd    & English    & 1         \\\\\n",
       "\t Leisman    & Maths      & 1         \\\\\n",
       "\t McGahy     & Biology    & 1         \\\\\n",
       "\t McKeeman   & Music      & 1         \\\\\n",
       "\t Mollison   & Biology    & 1         \\\\\n",
       "\t Mosby      & Geography  & 1         \\\\\n",
       "\t Mulcock    & Music      & 1         \\\\\n",
       "\t Neljes     & Geography  & 1         \\\\\n",
       "\t O'Fogarty  & Support    & 1         \\\\\n",
       "\t Pavia      & History    & 1         \\\\\n",
       "\t Poskitt    & Chemistry  & 1         \\\\\n",
       "\t ... & ... & ...\\\\\n",
       "\t Loughan       & Business      & 2            \\\\\n",
       "\t Manifould     & English       & 2            \\\\\n",
       "\t Rhodus        & Music         & 2            \\\\\n",
       "\t Siverns       & History       & 2            \\\\\n",
       "\t Sodor         & English       & 2            \\\\\n",
       "\t Tomczykiewicz & Business      & 2            \\\\\n",
       "\t Torald        & Biology       & 2            \\\\\n",
       "\t Allonby       & Support       & 3            \\\\\n",
       "\t Barnicott     & History       & 3            \\\\\n",
       "\t Caudray       & Biology       & 3            \\\\\n",
       "\t Dewett        & Support       & 3            \\\\\n",
       "\t Redemile      & PE            & 3            \\\\\n",
       "\t Reyburn       & History       & 3            \\\\\n",
       "\t Tesseyman     & Support       & 3            \\\\\n",
       "\t Vellden       & History       & 3            \\\\\n",
       "\t Aucott        & PE            & 4            \\\\\n",
       "\t Clayfield     & Physics       & 4            \\\\\n",
       "\t Delmonti      & Support       & 4            \\\\\n",
       "\t Heaselgrave   & Physics       & 4            \\\\\n",
       "\t Nesby         & Music         & 4            \\\\\n",
       "\t Ralls         & English       & 4            \\\\\n",
       "\t Shields       & English       & 4            \\\\\n",
       "\t Spiniello     & Maths         & 4            \\\\\n",
       "\t Waggatt       & Maths         & 4            \\\\\n",
       "\t Hartigan      & Languages     & 5            \\\\\n",
       "\t Jamson        & Support       & 5            \\\\\n",
       "\t Machel        & Maths         & 5            \\\\\n",
       "\t Ratazzi       & PE            & 5            \\\\\n",
       "\t Couroy        & Languages     & 6            \\\\\n",
       "\t Warrilow      & English       & 6            \\\\\n",
       "\\end{tabular}\n"
      ],
      "text/markdown": [
       "\n",
       "| last_name | department | number_of_classes |\n",
       "|---|---|---|\n",
       "| Adamik     | Biology    | 1          |\n",
       "| Alejandri  | Chemistry  | 1          |\n",
       "| Ballantine | Music      | 1          |\n",
       "| Bartalot   | Maths      | 1          |\n",
       "| Beddoes    | Business   | 1          |\n",
       "| Bhar       | Chemistry  | 1          |\n",
       "| Braizier   | Physics    | 1          |\n",
       "| Capenor    | Maths      | 1          |\n",
       "| Cleyburn   | Business   | 1          |\n",
       "| Dabels     | Geography  | 1          |\n",
       "| Danat      | Maths      | 1          |\n",
       "| De Leek    | Biology    | 1          |\n",
       "| Dossettor  | Chemistry  | 1          |\n",
       "| Falvey     | History    | 1          |\n",
       "| Gordon     | Physics    | 1          |\n",
       "| Hardes     | Physics    | 1          |\n",
       "| Ianni      | Biology    | 1          |\n",
       "| Jacobssen  | History    | 1          |\n",
       "| Klimecki   | Geography  | 1          |\n",
       "| Learoyd    | English    | 1          |\n",
       "| Leisman    | Maths      | 1          |\n",
       "| McGahy     | Biology    | 1          |\n",
       "| McKeeman   | Music      | 1          |\n",
       "| Mollison   | Biology    | 1          |\n",
       "| Mosby      | Geography  | 1          |\n",
       "| Mulcock    | Music      | 1          |\n",
       "| Neljes     | Geography  | 1          |\n",
       "| O'Fogarty  | Support    | 1          |\n",
       "| Pavia      | History    | 1          |\n",
       "| Poskitt    | Chemistry  | 1          |\n",
       "| ... | ... | ... |\n",
       "| Loughan       | Business      | 2             |\n",
       "| Manifould     | English       | 2             |\n",
       "| Rhodus        | Music         | 2             |\n",
       "| Siverns       | History       | 2             |\n",
       "| Sodor         | English       | 2             |\n",
       "| Tomczykiewicz | Business      | 2             |\n",
       "| Torald        | Biology       | 2             |\n",
       "| Allonby       | Support       | 3             |\n",
       "| Barnicott     | History       | 3             |\n",
       "| Caudray       | Biology       | 3             |\n",
       "| Dewett        | Support       | 3             |\n",
       "| Redemile      | PE            | 3             |\n",
       "| Reyburn       | History       | 3             |\n",
       "| Tesseyman     | Support       | 3             |\n",
       "| Vellden       | History       | 3             |\n",
       "| Aucott        | PE            | 4             |\n",
       "| Clayfield     | Physics       | 4             |\n",
       "| Delmonti      | Support       | 4             |\n",
       "| Heaselgrave   | Physics       | 4             |\n",
       "| Nesby         | Music         | 4             |\n",
       "| Ralls         | English       | 4             |\n",
       "| Shields       | English       | 4             |\n",
       "| Spiniello     | Maths         | 4             |\n",
       "| Waggatt       | Maths         | 4             |\n",
       "| Hartigan      | Languages     | 5             |\n",
       "| Jamson        | Support       | 5             |\n",
       "| Machel        | Maths         | 5             |\n",
       "| Ratazzi       | PE            | 5             |\n",
       "| Couroy        | Languages     | 6             |\n",
       "| Warrilow      | English       | 6             |\n",
       "\n"
      ],
      "text/plain": [
       "    last_name     department number_of_classes\n",
       "1   Adamik        Biology    1                \n",
       "2   Alejandri     Chemistry  1                \n",
       "3   Ballantine    Music      1                \n",
       "4   Bartalot      Maths      1                \n",
       "5   Beddoes       Business   1                \n",
       "6   Bhar          Chemistry  1                \n",
       "7   Braizier      Physics    1                \n",
       "8   Capenor       Maths      1                \n",
       "9   Cleyburn      Business   1                \n",
       "10  Dabels        Geography  1                \n",
       "11  Danat         Maths      1                \n",
       "12  De Leek       Biology    1                \n",
       "13  Dossettor     Chemistry  1                \n",
       "14  Falvey        History    1                \n",
       "15  Gordon        Physics    1                \n",
       "16  Hardes        Physics    1                \n",
       "17  Ianni         Biology    1                \n",
       "18  Jacobssen     History    1                \n",
       "19  Klimecki      Geography  1                \n",
       "20  Learoyd       English    1                \n",
       "21  Leisman       Maths      1                \n",
       "22  McGahy        Biology    1                \n",
       "23  McKeeman      Music      1                \n",
       "24  Mollison      Biology    1                \n",
       "25  Mosby         Geography  1                \n",
       "26  Mulcock       Music      1                \n",
       "27  Neljes        Geography  1                \n",
       "28  O'Fogarty     Support    1                \n",
       "29  Pavia         History    1                \n",
       "30  Poskitt       Chemistry  1                \n",
       "... ...           ...        ...              \n",
       "49  Loughan       Business   2                \n",
       "50  Manifould     English    2                \n",
       "51  Rhodus        Music      2                \n",
       "52  Siverns       History    2                \n",
       "53  Sodor         English    2                \n",
       "54  Tomczykiewicz Business   2                \n",
       "55  Torald        Biology    2                \n",
       "56  Allonby       Support    3                \n",
       "57  Barnicott     History    3                \n",
       "58  Caudray       Biology    3                \n",
       "59  Dewett        Support    3                \n",
       "60  Redemile      PE         3                \n",
       "61  Reyburn       History    3                \n",
       "62  Tesseyman     Support    3                \n",
       "63  Vellden       History    3                \n",
       "64  Aucott        PE         4                \n",
       "65  Clayfield     Physics    4                \n",
       "66  Delmonti      Support    4                \n",
       "67  Heaselgrave   Physics    4                \n",
       "68  Nesby         Music      4                \n",
       "69  Ralls         English    4                \n",
       "70  Shields       English    4                \n",
       "71  Spiniello     Maths      4                \n",
       "72  Waggatt       Maths      4                \n",
       "73  Hartigan      Languages  5                \n",
       "74  Jamson        Support    5                \n",
       "75  Machel        Maths      5                \n",
       "76  Ratazzi       PE         5                \n",
       "77  Couroy        Languages  6                \n",
       "78  Warrilow      English    6                "
      ]
     },
     "metadata": {},
     "output_type": "display_data"
    }
   ],
   "source": [
    "number_classes_each_teachers"
   ]
  },
  {
   "cell_type": "code",
   "execution_count": 20,
   "id": "f8a06d93",
   "metadata": {},
   "outputs": [
    {
     "data": {
      "image/png": "[encoded data removed]",
      "text/plain": [
       "plot without title"
      ]
     },
     "metadata": {},
     "output_type": "display_data"
    }
   ],
   "source": [
    "num_classes_each_teachers %>%\n",
    "    ggplot() +\n",
    "    aes( x = reorder(last_name, desc(number_of_classes)), y = number_of_classes) +\n",
    "    geom_col( fill=\"green\") +\n",
    "    theme(axis.text.x = element_text(angle = 90, hjust = 1) ) +\n",
    "    xlab( \"Teachers Last Name\") +\n",
    "    ylab(\"Number of Classes\") +\n",
    "    facet_wrap(~department, scale = \"free_x\")"
   ]
  },
  {
   "cell_type": "code",
   "execution_count": null,
   "id": "c3a382c8",
   "metadata": {},
   "outputs": [],
   "source": []
  }
 ],
 "metadata": {
  "kernelspec": {
   "display_name": "R",
   "language": "R",
   "name": "ir"
  },
  "language_info": {
   "codemirror_mode": "r",
   "file_extension": ".r",
   "mimetype": "text/x-r-source",
   "name": "R",
   "pygments_lexer": "r",
   "version": "3.6.1"
  }
 },
 "nbformat": 4,
 "nbformat_minor": 5
}
